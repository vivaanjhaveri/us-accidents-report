{
 "cells": [
  {
   "cell_type": "markdown",
   "metadata": {},
   "source": [
    "# US Accidents (2016 - 2023)\n",
    "## A Countrywide Traffic Accident Dataset\n",
    "### Group Members: Shawn Prasad, Blasius Boniarga, Heral Kumar, Vivaan Jhaveri\n",
    "---"
   ]
  },
  {
   "cell_type": "markdown",
   "metadata": {},
   "source": [
    "## Introduction\n",
    "\n",
    "The dataset used in this analysis is the **US Accidents dataset** available on [Kaggle](https://www.kaggle.com/datasets/sobhanmoosavi/us-accidents). It contains about 2.8 million accident records from February 2016 to December 2023, collected from various traffic and GPS reporting systems across the United States. For the purposes of this report, we are using the sample dataset since it is much smaller in size and easier to compute on our personal machines. This sample dataset contains about 500k observations.\n",
    "\n",
    "Each record contains detailed information, including:\n",
    "\n",
    "- **Geographic Information:** Latitude, Longitude, City, State, County, ZIP Code.\n",
    "- **Temporal Information:** Start and End times.\n",
    "- **Weather and Environmental Conditions:** Temperature, humidity, visibility, wind speed, precipitation, and general weather conditions.\n",
    "- **Road and Traffic Features:** Road type, traffic signals, junctions, crossings, severity level, and proximity to traffic calming measures.\n",
    "\n",
    "**Motivation:**  \n",
    "The goal of this analysis is to understand patterns in traffic accidents, explore key factors influencing accident frequency and severity, and ultimately provide insights that could guide traffic safety improvements and preventive measures."
   ]
  },
  {
   "cell_type": "code",
   "execution_count": 1,
   "metadata": {
    "vscode": {
     "languageId": "r"
    }
   },
   "outputs": [
    {
     "data": {
      "text/html": [
       "<table class=\"dataframe\">\n",
       "<caption>A data.frame: 6 x 46</caption>\n",
       "<thead>\n",
       "\t<tr><th></th><th scope=col>ID</th><th scope=col>Source</th><th scope=col>Severity</th><th scope=col>Start_Time</th><th scope=col>End_Time</th><th scope=col>Start_Lat</th><th scope=col>Start_Lng</th><th scope=col>End_Lat</th><th scope=col>End_Lng</th><th scope=col>Distance.mi.</th><th scope=col>...</th><th scope=col>Roundabout</th><th scope=col>Station</th><th scope=col>Stop</th><th scope=col>Traffic_Calming</th><th scope=col>Traffic_Signal</th><th scope=col>Turning_Loop</th><th scope=col>Sunrise_Sunset</th><th scope=col>Civil_Twilight</th><th scope=col>Nautical_Twilight</th><th scope=col>Astronomical_Twilight</th></tr>\n",
       "\t<tr><th></th><th scope=col>&lt;chr&gt;</th><th scope=col>&lt;chr&gt;</th><th scope=col>&lt;int&gt;</th><th scope=col>&lt;chr&gt;</th><th scope=col>&lt;chr&gt;</th><th scope=col>&lt;dbl&gt;</th><th scope=col>&lt;dbl&gt;</th><th scope=col>&lt;dbl&gt;</th><th scope=col>&lt;dbl&gt;</th><th scope=col>&lt;dbl&gt;</th><th scope=col>...</th><th scope=col>&lt;lgl&gt;</th><th scope=col>&lt;lgl&gt;</th><th scope=col>&lt;lgl&gt;</th><th scope=col>&lt;lgl&gt;</th><th scope=col>&lt;lgl&gt;</th><th scope=col>&lt;lgl&gt;</th><th scope=col>&lt;chr&gt;</th><th scope=col>&lt;chr&gt;</th><th scope=col>&lt;chr&gt;</th><th scope=col>&lt;chr&gt;</th></tr>\n",
       "</thead>\n",
       "<tbody>\n",
       "\t<tr><th scope=row>1</th><td>A-5006183</td><td>Source1</td><td>2</td><td>2022-08-20T13:13:00Z</td><td>2022-08-20T15:22:45Z</td><td>34.66119</td><td>-120.4928</td><td>34.66119</td><td>-120.4924</td><td>0.022</td><td>...</td><td>FALSE</td><td>FALSE</td><td>FALSE</td><td>FALSE</td><td> TRUE</td><td>FALSE</td><td>Day  </td><td>Day  </td><td>Day  </td><td>Day  </td></tr>\n",
       "\t<tr><th scope=row>2</th><td>A-6690583</td><td>Source1</td><td>2</td><td>2020-12-04T01:46:00Z</td><td>2020-12-04T04:13:09Z</td><td>35.39548</td><td>-118.9852</td><td>35.39548</td><td>-118.9860</td><td>0.046</td><td>...</td><td>FALSE</td><td>FALSE</td><td>FALSE</td><td>FALSE</td><td>FALSE</td><td>FALSE</td><td>Night</td><td>Night</td><td>Night</td><td>Night</td></tr>\n",
       "\t<tr><th scope=row>3</th><td>A-4535214</td><td>Source1</td><td>2</td><td>2022-02-18T16:53:00Z</td><td>2022-02-18T18:59:00Z</td><td>32.77164</td><td>-117.1614</td><td>32.73086</td><td>-117.1547</td><td>2.845</td><td>...</td><td>FALSE</td><td>FALSE</td><td>FALSE</td><td>FALSE</td><td>FALSE</td><td>FALSE</td><td>Day  </td><td>Day  </td><td>Day  </td><td>Day  </td></tr>\n",
       "\t<tr><th scope=row>4</th><td>A-1506844</td><td>Source3</td><td>2</td><td>2020-06-15T08:17:29Z</td><td>2020-06-15T08:47:18Z</td><td>34.24327</td><td>-118.4245</td><td>      NA</td><td>       NA</td><td>0.000</td><td>...</td><td>FALSE</td><td>FALSE</td><td> TRUE</td><td>FALSE</td><td>FALSE</td><td>FALSE</td><td>Day  </td><td>Day  </td><td>Day  </td><td>Day  </td></tr>\n",
       "\t<tr><th scope=row>5</th><td>A-3983218</td><td>Source1</td><td>2</td><td>2022-03-22T07:22:30Z</td><td>2022-03-22T11:12:00Z</td><td>33.12097</td><td>-117.3215</td><td>33.10005</td><td>-117.3086</td><td>1.626</td><td>...</td><td>FALSE</td><td>FALSE</td><td>FALSE</td><td>FALSE</td><td>FALSE</td><td>FALSE</td><td>Day  </td><td>Day  </td><td>Day  </td><td>Day  </td></tr>\n",
       "\t<tr><th scope=row>6</th><td>A-19908  </td><td>Source2</td><td>2</td><td>2016-09-13T22:15:22Z</td><td>2016-09-13T22:45:22Z</td><td>38.65413</td><td>-121.3829</td><td>      NA</td><td>       NA</td><td>0.000</td><td>...</td><td>FALSE</td><td>FALSE</td><td>FALSE</td><td>FALSE</td><td> TRUE</td><td>FALSE</td><td>Night</td><td>Night</td><td>Night</td><td>Night</td></tr>\n",
       "</tbody>\n",
       "</table>\n"
      ],
      "text/latex": [
       "A data.frame: 6 x 46\n",
       "\\begin{tabular}{r|lllllllllllllllllllll}\n",
       "  & ID & Source & Severity & Start\\_Time & End\\_Time & Start\\_Lat & Start\\_Lng & End\\_Lat & End\\_Lng & Distance.mi. & ... & Roundabout & Station & Stop & Traffic\\_Calming & Traffic\\_Signal & Turning\\_Loop & Sunrise\\_Sunset & Civil\\_Twilight & Nautical\\_Twilight & Astronomical\\_Twilight\\\\\n",
       "  & <chr> & <chr> & <int> & <chr> & <chr> & <dbl> & <dbl> & <dbl> & <dbl> & <dbl> & ... & <lgl> & <lgl> & <lgl> & <lgl> & <lgl> & <lgl> & <chr> & <chr> & <chr> & <chr>\\\\\n",
       "\\hline\n",
       "\t1 & A-5006183 & Source1 & 2 & 2022-08-20T13:13:00Z & 2022-08-20T15:22:45Z & 34.66119 & -120.4928 & 34.66119 & -120.4924 & 0.022 & ... & FALSE & FALSE & FALSE & FALSE &  TRUE & FALSE & Day   & Day   & Day   & Day  \\\\\n",
       "\t2 & A-6690583 & Source1 & 2 & 2020-12-04T01:46:00Z & 2020-12-04T04:13:09Z & 35.39548 & -118.9852 & 35.39548 & -118.9860 & 0.046 & ... & FALSE & FALSE & FALSE & FALSE & FALSE & FALSE & Night & Night & Night & Night\\\\\n",
       "\t3 & A-4535214 & Source1 & 2 & 2022-02-18T16:53:00Z & 2022-02-18T18:59:00Z & 32.77164 & -117.1614 & 32.73086 & -117.1547 & 2.845 & ... & FALSE & FALSE & FALSE & FALSE & FALSE & FALSE & Day   & Day   & Day   & Day  \\\\\n",
       "\t4 & A-1506844 & Source3 & 2 & 2020-06-15T08:17:29Z & 2020-06-15T08:47:18Z & 34.24327 & -118.4245 &       NA &        NA & 0.000 & ... & FALSE & FALSE &  TRUE & FALSE & FALSE & FALSE & Day   & Day   & Day   & Day  \\\\\n",
       "\t5 & A-3983218 & Source1 & 2 & 2022-03-22T07:22:30Z & 2022-03-22T11:12:00Z & 33.12097 & -117.3215 & 33.10005 & -117.3086 & 1.626 & ... & FALSE & FALSE & FALSE & FALSE & FALSE & FALSE & Day   & Day   & Day   & Day  \\\\\n",
       "\t6 & A-19908   & Source2 & 2 & 2016-09-13T22:15:22Z & 2016-09-13T22:45:22Z & 38.65413 & -121.3829 &       NA &        NA & 0.000 & ... & FALSE & FALSE & FALSE & FALSE &  TRUE & FALSE & Night & Night & Night & Night\\\\\n",
       "\\end{tabular}\n"
      ],
      "text/markdown": [
       "\n",
       "A data.frame: 6 x 46\n",
       "\n",
       "| <!--/--> | ID &lt;chr&gt; | Source &lt;chr&gt; | Severity &lt;int&gt; | Start_Time &lt;chr&gt; | End_Time &lt;chr&gt; | Start_Lat &lt;dbl&gt; | Start_Lng &lt;dbl&gt; | End_Lat &lt;dbl&gt; | End_Lng &lt;dbl&gt; | Distance.mi. &lt;dbl&gt; | ... ... | Roundabout &lt;lgl&gt; | Station &lt;lgl&gt; | Stop &lt;lgl&gt; | Traffic_Calming &lt;lgl&gt; | Traffic_Signal &lt;lgl&gt; | Turning_Loop &lt;lgl&gt; | Sunrise_Sunset &lt;chr&gt; | Civil_Twilight &lt;chr&gt; | Nautical_Twilight &lt;chr&gt; | Astronomical_Twilight &lt;chr&gt; |\n",
       "|---|---|---|---|---|---|---|---|---|---|---|---|---|---|---|---|---|---|---|---|---|---|\n",
       "| 1 | A-5006183 | Source1 | 2 | 2022-08-20T13:13:00Z | 2022-08-20T15:22:45Z | 34.66119 | -120.4928 | 34.66119 | -120.4924 | 0.022 | ... | FALSE | FALSE | FALSE | FALSE |  TRUE | FALSE | Day   | Day   | Day   | Day   |\n",
       "| 2 | A-6690583 | Source1 | 2 | 2020-12-04T01:46:00Z | 2020-12-04T04:13:09Z | 35.39548 | -118.9852 | 35.39548 | -118.9860 | 0.046 | ... | FALSE | FALSE | FALSE | FALSE | FALSE | FALSE | Night | Night | Night | Night |\n",
       "| 3 | A-4535214 | Source1 | 2 | 2022-02-18T16:53:00Z | 2022-02-18T18:59:00Z | 32.77164 | -117.1614 | 32.73086 | -117.1547 | 2.845 | ... | FALSE | FALSE | FALSE | FALSE | FALSE | FALSE | Day   | Day   | Day   | Day   |\n",
       "| 4 | A-1506844 | Source3 | 2 | 2020-06-15T08:17:29Z | 2020-06-15T08:47:18Z | 34.24327 | -118.4245 |       NA |        NA | 0.000 | ... | FALSE | FALSE |  TRUE | FALSE | FALSE | FALSE | Day   | Day   | Day   | Day   |\n",
       "| 5 | A-3983218 | Source1 | 2 | 2022-03-22T07:22:30Z | 2022-03-22T11:12:00Z | 33.12097 | -117.3215 | 33.10005 | -117.3086 | 1.626 | ... | FALSE | FALSE | FALSE | FALSE | FALSE | FALSE | Day   | Day   | Day   | Day   |\n",
       "| 6 | A-19908   | Source2 | 2 | 2016-09-13T22:15:22Z | 2016-09-13T22:45:22Z | 38.65413 | -121.3829 |       NA |        NA | 0.000 | ... | FALSE | FALSE | FALSE | FALSE |  TRUE | FALSE | Night | Night | Night | Night |\n",
       "\n"
      ],
      "text/plain": [
       "  ID        Source  Severity Start_Time           End_Time            \n",
       "1 A-5006183 Source1 2        2022-08-20T13:13:00Z 2022-08-20T15:22:45Z\n",
       "2 A-6690583 Source1 2        2020-12-04T01:46:00Z 2020-12-04T04:13:09Z\n",
       "3 A-4535214 Source1 2        2022-02-18T16:53:00Z 2022-02-18T18:59:00Z\n",
       "4 A-1506844 Source3 2        2020-06-15T08:17:29Z 2020-06-15T08:47:18Z\n",
       "5 A-3983218 Source1 2        2022-03-22T07:22:30Z 2022-03-22T11:12:00Z\n",
       "6 A-19908   Source2 2        2016-09-13T22:15:22Z 2016-09-13T22:45:22Z\n",
       "  Start_Lat Start_Lng End_Lat  End_Lng   Distance.mi. ... Roundabout Station\n",
       "1 34.66119  -120.4928 34.66119 -120.4924 0.022        ... FALSE      FALSE  \n",
       "2 35.39548  -118.9852 35.39548 -118.9860 0.046        ... FALSE      FALSE  \n",
       "3 32.77164  -117.1614 32.73086 -117.1547 2.845        ... FALSE      FALSE  \n",
       "4 34.24327  -118.4245       NA        NA 0.000        ... FALSE      FALSE  \n",
       "5 33.12097  -117.3215 33.10005 -117.3086 1.626        ... FALSE      FALSE  \n",
       "6 38.65413  -121.3829       NA        NA 0.000        ... FALSE      FALSE  \n",
       "  Stop  Traffic_Calming Traffic_Signal Turning_Loop Sunrise_Sunset\n",
       "1 FALSE FALSE            TRUE          FALSE        Day           \n",
       "2 FALSE FALSE           FALSE          FALSE        Night         \n",
       "3 FALSE FALSE           FALSE          FALSE        Day           \n",
       "4  TRUE FALSE           FALSE          FALSE        Day           \n",
       "5 FALSE FALSE           FALSE          FALSE        Day           \n",
       "6 FALSE FALSE            TRUE          FALSE        Night         \n",
       "  Civil_Twilight Nautical_Twilight Astronomical_Twilight\n",
       "1 Day            Day               Day                  \n",
       "2 Night          Night             Night                \n",
       "3 Day            Day               Day                  \n",
       "4 Day            Day               Day                  \n",
       "5 Day            Day               Day                  \n",
       "6 Night          Night             Night                "
      ]
     },
     "metadata": {},
     "output_type": "display_data"
    }
   ],
   "source": [
    "accidents <- read.csv(\"data/cali_accidents_sampled_500k.csv\")\n",
    "head(accidents)"
   ]
  },
  {
   "cell_type": "code",
   "execution_count": null,
   "metadata": {
    "vscode": {
     "languageId": "r"
    }
   },
   "outputs": [],
   "source": []
  }
 ],
 "metadata": {
  "kernelspec": {
   "display_name": "R",
   "language": "R",
   "name": "ir"
  },
  "language_info": {
   "codemirror_mode": "r",
   "file_extension": ".r",
   "mimetype": "text/x-r-source",
   "name": "R",
   "pygments_lexer": "r",
   "version": "4.3.1"
  }
 },
 "nbformat": 4,
 "nbformat_minor": 2
}
